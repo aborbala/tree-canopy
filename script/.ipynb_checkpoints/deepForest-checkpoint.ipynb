{
 "cells": [
  {
   "cell_type": "code",
   "execution_count": 16,
   "id": "b38e58de",
   "metadata": {},
   "outputs": [],
   "source": [
    "import deepforest as dp\n",
    "from inspect import getmembers, isfunction"
   ]
  },
  {
   "cell_type": "code",
   "execution_count": 17,
   "id": "ad776e75",
   "metadata": {},
   "outputs": [],
   "source": [
    "import os\n",
    "import matplotlib.pyplot as plt"
   ]
  },
  {
   "cell_type": "code",
   "execution_count": 18,
   "id": "524aa358",
   "metadata": {},
   "outputs": [
    {
     "name": "stdout",
     "output_type": "stream",
     "text": [
      "[('get_data', <function get_data at 0x0000018ACC0075B0>)]\n"
     ]
    }
   ],
   "source": [
    "dir(dp)\n",
    "print(getmembers(dp, isfunction))"
   ]
  },
  {
   "cell_type": "code",
   "execution_count": null,
   "id": "2fd058ef",
   "metadata": {},
   "outputs": [],
   "source": [
    "from deepforest import predict"
   ]
  },
  {
   "cell_type": "code",
   "execution_count": 19,
   "id": "a68fc385",
   "metadata": {},
   "outputs": [
    {
     "name": "stdout",
     "output_type": "stream",
     "text": [
      "Help on package deepforest:\n",
      "\n",
      "NAME\n",
      "    deepforest - Top-level package for DeepForest.\n",
      "\n",
      "PACKAGE CONTENTS\n",
      "    IoU\n",
      "    _version\n",
      "    callbacks\n",
      "    data (package)\n",
      "    dataset\n",
      "    evaluate\n",
      "    main\n",
      "    model\n",
      "    predict\n",
      "    preprocess\n",
      "    utilities\n",
      "    visualize\n",
      "\n",
      "FUNCTIONS\n",
      "    get_data(path)\n",
      "        helper function to get package sample data\n",
      "\n",
      "DATA\n",
      "    __email__ = 'ben.weinstein@weecology.org'\n",
      "\n",
      "VERSION\n",
      "    1.2.1\n",
      "\n",
      "AUTHOR\n",
      "    Ben Weinstein\n",
      "\n",
      "FILE\n",
      "    c:\\thesis_treecanopy\\script\\env\\lib\\site-packages\\deepforest\\__init__.py\n",
      "\n",
      "\n"
     ]
    }
   ],
   "source": [
    "help(dp)"
   ]
  },
  {
   "cell_type": "code",
   "execution_count": 12,
   "id": "2a3cd5df",
   "metadata": {},
   "outputs": [
    {
     "ename": "TypeError",
     "evalue": "string indices must be integers",
     "output_type": "error",
     "traceback": [
      "\u001b[1;31m---------------------------------------------------------------------------\u001b[0m",
      "\u001b[1;31mTypeError\u001b[0m                                 Traceback (most recent call last)",
      "Input \u001b[1;32mIn [12]\u001b[0m, in \u001b[0;36m<cell line: 2>\u001b[1;34m()\u001b[0m\n\u001b[0;32m      1\u001b[0m sample_image \u001b[38;5;241m=\u001b[39m dp\u001b[38;5;241m.\u001b[39mget_data(\u001b[38;5;124m\"\u001b[39m\u001b[38;5;124mOSBS_029.png\u001b[39m\u001b[38;5;124m\"\u001b[39m)\n\u001b[1;32m----> 2\u001b[0m plt\u001b[38;5;241m.\u001b[39mimshow(\u001b[43msample_image\u001b[49m\u001b[43m[\u001b[49m\u001b[43m:\u001b[49m\u001b[43m,\u001b[49m\u001b[43m:\u001b[49m\u001b[43m,\u001b[49m\u001b[43m:\u001b[49m\u001b[43m:\u001b[49m\u001b[38;5;241;43m-\u001b[39;49m\u001b[38;5;241;43m1\u001b[39;49m\u001b[43m]\u001b[49m)\n",
      "\u001b[1;31mTypeError\u001b[0m: string indices must be integers"
     ]
    }
   ],
   "source": [
    "sample_image = dp.get_data(\"OSBS_029.png\")"
   ]
  },
  {
   "cell_type": "code",
   "execution_count": null,
   "id": "e11d2cee",
   "metadata": {},
   "outputs": [],
   "source": []
  }
 ],
 "metadata": {
  "kernelspec": {
   "display_name": "Python 3 (ipykernel)",
   "language": "python",
   "name": "python3"
  },
  "language_info": {
   "codemirror_mode": {
    "name": "ipython",
    "version": 3
   },
   "file_extension": ".py",
   "mimetype": "text/x-python",
   "name": "python",
   "nbconvert_exporter": "python",
   "pygments_lexer": "ipython3",
   "version": "3.10.4"
  }
 },
 "nbformat": 4,
 "nbformat_minor": 5
}
