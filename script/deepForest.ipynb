{
 "cells": [
  {
   "cell_type": "code",
   "execution_count": 1,
   "id": "201b09c6",
   "metadata": {},
   "outputs": [],
   "source": [
    "import deepforest as dp\n",
    "from inspect import getmembers, isfunction"
   ]
  },
  {
   "cell_type": "code",
   "execution_count": 2,
   "id": "ca7e1f5c",
   "metadata": {},
   "outputs": [],
   "source": [
    "import os\n",
    "import matplotlib.pyplot as plt"
   ]
  },
  {
   "cell_type": "code",
   "execution_count": 6,
   "id": "117b25eb",
   "metadata": {},
   "outputs": [
    {
     "name": "stdout",
     "output_type": "stream",
     "text": [
      "[('get_data', <function get_data at 0x000001E8842C6B90>)]\n"
     ]
    }
   ],
   "source": [
    "dir(dp)\n",
    "print(getmembers(dp, isfunction))"
   ]
  },
  {
   "cell_type": "code",
   "execution_count": 7,
   "id": "bad59ec8",
   "metadata": {},
   "outputs": [
    {
     "name": "stdout",
     "output_type": "stream",
     "text": [
      "Help on package deepforest:\n",
      "\n",
      "NAME\n",
      "    deepforest - Top-level package for DeepForest.\n",
      "\n",
      "PACKAGE CONTENTS\n",
      "    IoU\n",
      "    _version\n",
      "    callbacks\n",
      "    data (package)\n",
      "    dataset\n",
      "    evaluate\n",
      "    main\n",
      "    model\n",
      "    predict\n",
      "    preprocess\n",
      "    utilities\n",
      "    visualize\n",
      "\n",
      "FUNCTIONS\n",
      "    get_data(path)\n",
      "        helper function to get package sample data\n",
      "\n",
      "DATA\n",
      "    __email__ = 'ben.weinstein@weecology.org'\n",
      "\n",
      "VERSION\n",
      "    1.2.1\n",
      "\n",
      "AUTHOR\n",
      "    Ben Weinstein\n",
      "\n",
      "FILE\n",
      "    c:\\thesis_treecanopy\\script\\env\\lib\\site-packages\\deepforest\\__init__.py\n",
      "\n",
      "\n"
     ]
    }
   ],
   "source": [
    "help(dp)"
   ]
  },
  {
   "cell_type": "code",
   "execution_count": 8,
   "id": "c4f9140f",
   "metadata": {},
   "outputs": [],
   "source": [
    "sample_image = dp.get_data(\"OSBS_029.png\")"
   ]
  },
  {
   "cell_type": "code",
   "execution_count": 13,
   "id": "d6fb97e3",
   "metadata": {},
   "outputs": [
    {
     "ename": "AttributeError",
     "evalue": "module 'deepforest' has no attribute 'main'",
     "output_type": "error",
     "traceback": [
      "\u001b[1;31m---------------------------------------------------------------------------\u001b[0m",
      "\u001b[1;31mAttributeError\u001b[0m                            Traceback (most recent call last)",
      "Input \u001b[1;32mIn [13]\u001b[0m, in \u001b[0;36m<cell line: 1>\u001b[1;34m()\u001b[0m\n\u001b[1;32m----> 1\u001b[0m model \u001b[38;5;241m=\u001b[39m \u001b[43mdp\u001b[49m\u001b[38;5;241;43m.\u001b[39;49m\u001b[43mmain\u001b[49m\u001b[38;5;241m.\u001b[39mdeepforest()\n",
      "\u001b[1;31mAttributeError\u001b[0m: module 'deepforest' has no attribute 'main'"
     ]
    }
   ],
   "source": [
    "model = dp.main.deepforest()"
   ]
  },
  {
   "cell_type": "code",
   "execution_count": 11,
   "id": "a1b0ff47",
   "metadata": {},
   "outputs": [
    {
     "ename": "ImportError",
     "evalue": "cannot import name 'deepforest' from 'deepforest' (C:\\thesis_treecanopy\\script\\env\\lib\\site-packages\\deepforest\\__init__.py)",
     "output_type": "error",
     "traceback": [
      "\u001b[1;31m---------------------------------------------------------------------------\u001b[0m",
      "\u001b[1;31mImportError\u001b[0m                               Traceback (most recent call last)",
      "Input \u001b[1;32mIn [11]\u001b[0m, in \u001b[0;36m<cell line: 1>\u001b[1;34m()\u001b[0m\n\u001b[1;32m----> 1\u001b[0m \u001b[38;5;28;01mfrom\u001b[39;00m \u001b[38;5;21;01mdeepforest\u001b[39;00m \u001b[38;5;28;01mimport\u001b[39;00m deepforest\n",
      "\u001b[1;31mImportError\u001b[0m: cannot import name 'deepforest' from 'deepforest' (C:\\thesis_treecanopy\\script\\env\\lib\\site-packages\\deepforest\\__init__.py)"
     ]
    }
   ],
   "source": []
  },
  {
   "cell_type": "code",
   "execution_count": null,
   "id": "9f0c3821",
   "metadata": {},
   "outputs": [],
   "source": []
  }
 ],
 "metadata": {
  "kernelspec": {
   "display_name": "Python 3 (ipykernel)",
   "language": "python",
   "name": "python3"
  },
  "language_info": {
   "codemirror_mode": {
    "name": "ipython",
    "version": 3
   },
   "file_extension": ".py",
   "mimetype": "text/x-python",
   "name": "python",
   "nbconvert_exporter": "python",
   "pygments_lexer": "ipython3",
   "version": "3.10.4"
  }
 },
 "nbformat": 4,
 "nbformat_minor": 5
}
