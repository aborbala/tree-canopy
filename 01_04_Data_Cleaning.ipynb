{
  "nbformat": 4,
  "nbformat_minor": 0,
  "metadata": {
    "colab": {
      "provenance": [],
      "authorship_tag": "ABX9TyObs7HsuQOA/cIqMhGjQwl2",
      "include_colab_link": true
    },
    "kernelspec": {
      "name": "python3",
      "display_name": "Python 3"
    },
    "language_info": {
      "name": "python"
    }
  },
  "cells": [
    {
      "cell_type": "markdown",
      "metadata": {
        "id": "view-in-github",
        "colab_type": "text"
      },
      "source": [
        "<a href=\"https://colab.research.google.com/github/aborbala/tree-canopy/blob/main/01_04_Data_Cleaning.ipynb\" target=\"_parent\"><img src=\"https://colab.research.google.com/assets/colab-badge.svg\" alt=\"Open In Colab\"/></a>"
      ]
    },
    {
      "cell_type": "code",
      "source": [
        "# Install necessary libraries\n",
        "!pip install geopandas shapely scikit-learn rasterio opencv-python-headless"
      ],
      "metadata": {
        "colab": {
          "base_uri": "https://localhost:8080/"
        },
        "id": "hkaOWle4naj0",
        "outputId": "961a57b3-4213-4f3e-c877-e17f3fe41f02"
      },
      "execution_count": null,
      "outputs": [
        {
          "output_type": "stream",
          "name": "stdout",
          "text": [
            "Requirement already satisfied: geopandas in /usr/local/lib/python3.10/dist-packages (0.13.2)\n",
            "Requirement already satisfied: shapely in /usr/local/lib/python3.10/dist-packages (2.0.4)\n",
            "Requirement already satisfied: scikit-learn in /usr/local/lib/python3.10/dist-packages (1.2.2)\n",
            "Requirement already satisfied: rasterio in /usr/local/lib/python3.10/dist-packages (1.3.10)\n",
            "Requirement already satisfied: opencv-python-headless in /usr/local/lib/python3.10/dist-packages (4.10.0.82)\n",
            "Requirement already satisfied: fiona>=1.8.19 in /usr/local/lib/python3.10/dist-packages (from geopandas) (1.9.6)\n",
            "Requirement already satisfied: packaging in /usr/local/lib/python3.10/dist-packages (from geopandas) (24.0)\n",
            "Requirement already satisfied: pandas>=1.1.0 in /usr/local/lib/python3.10/dist-packages (from geopandas) (2.0.3)\n",
            "Requirement already satisfied: pyproj>=3.0.1 in /usr/local/lib/python3.10/dist-packages (from geopandas) (3.6.1)\n",
            "Requirement already satisfied: numpy<3,>=1.14 in /usr/local/lib/python3.10/dist-packages (from shapely) (1.25.2)\n",
            "Requirement already satisfied: scipy>=1.3.2 in /usr/local/lib/python3.10/dist-packages (from scikit-learn) (1.11.4)\n",
            "Requirement already satisfied: joblib>=1.1.1 in /usr/local/lib/python3.10/dist-packages (from scikit-learn) (1.4.2)\n",
            "Requirement already satisfied: threadpoolctl>=2.0.0 in /usr/local/lib/python3.10/dist-packages (from scikit-learn) (3.5.0)\n",
            "Requirement already satisfied: affine in /usr/local/lib/python3.10/dist-packages (from rasterio) (2.4.0)\n",
            "Requirement already satisfied: attrs in /usr/local/lib/python3.10/dist-packages (from rasterio) (23.2.0)\n",
            "Requirement already satisfied: certifi in /usr/local/lib/python3.10/dist-packages (from rasterio) (2024.6.2)\n",
            "Requirement already satisfied: click>=4.0 in /usr/local/lib/python3.10/dist-packages (from rasterio) (8.1.7)\n",
            "Requirement already satisfied: cligj>=0.5 in /usr/local/lib/python3.10/dist-packages (from rasterio) (0.7.2)\n",
            "Requirement already satisfied: snuggs>=1.4.1 in /usr/local/lib/python3.10/dist-packages (from rasterio) (1.4.7)\n",
            "Requirement already satisfied: click-plugins in /usr/local/lib/python3.10/dist-packages (from rasterio) (1.1.1)\n",
            "Requirement already satisfied: setuptools in /usr/local/lib/python3.10/dist-packages (from rasterio) (67.7.2)\n",
            "Requirement already satisfied: six in /usr/local/lib/python3.10/dist-packages (from fiona>=1.8.19->geopandas) (1.16.0)\n",
            "Requirement already satisfied: python-dateutil>=2.8.2 in /usr/local/lib/python3.10/dist-packages (from pandas>=1.1.0->geopandas) (2.8.2)\n",
            "Requirement already satisfied: pytz>=2020.1 in /usr/local/lib/python3.10/dist-packages (from pandas>=1.1.0->geopandas) (2023.4)\n",
            "Requirement already satisfied: tzdata>=2022.1 in /usr/local/lib/python3.10/dist-packages (from pandas>=1.1.0->geopandas) (2024.1)\n",
            "Requirement already satisfied: pyparsing>=2.1.6 in /usr/local/lib/python3.10/dist-packages (from snuggs>=1.4.1->rasterio) (3.1.2)\n"
          ]
        }
      ]
    },
    {
      "cell_type": "code",
      "execution_count": null,
      "metadata": {
        "id": "ZsomB9-_mVYr"
      },
      "outputs": [],
      "source": [
        "import os\n",
        "import numpy as np\n",
        "import geopandas as gpd\n",
        "from shapely.geometry import Polygon, MultiPolygon\n",
        "from sklearn.decomposition import PCA\n",
        "import cv2\n",
        "import rasterio\n",
        "from google.colab import drive"
      ]
    },
    {
      "cell_type": "code",
      "source": [
        "drive.mount('/content/drive')"
      ],
      "metadata": {
        "colab": {
          "base_uri": "https://localhost:8080/"
        },
        "id": "C7p1hQD9npkS",
        "outputId": "393915af-ab9f-48a8-9726-beed91e66903"
      },
      "execution_count": null,
      "outputs": [
        {
          "output_type": "stream",
          "name": "stdout",
          "text": [
            "Mounted at /content/drive\n"
          ]
        }
      ]
    },
    {
      "cell_type": "code",
      "source": [
        "def get_length_width(polygon):\n",
        "    if polygon.is_empty or polygon.geom_type != 'Polygon':\n",
        "        return None, None\n",
        "\n",
        "    coords = np.array(polygon.exterior.coords)\n",
        "    coords -= coords.mean(axis=0)\n",
        "\n",
        "    pca = PCA(2)\n",
        "    coords_pca = pca.fit_transform(coords)\n",
        "\n",
        "    polygon_pca = Polygon(coords_pca)\n",
        "    length = polygon_pca.bounds[2] - polygon_pca.bounds[0]\n",
        "    width = polygon_pca.bounds[3] - polygon_pca.bounds[1]\n",
        "\n",
        "    return max(length, width), min(length, width)"
      ],
      "metadata": {
        "id": "Gf-QqDBbn3i2"
      },
      "execution_count": null,
      "outputs": []
    },
    {
      "cell_type": "code",
      "source": [
        "def satisfies_ratio(polygon):\n",
        "    length, width = get_length_width(polygon)\n",
        "    if width == 0:\n",
        "        return False\n",
        "    ratio = length / width\n",
        "    return ratio <= 2.4\n"
      ],
      "metadata": {
        "id": "Du51nqqAn71P"
      },
      "execution_count": null,
      "outputs": []
    },
    {
      "cell_type": "code",
      "source": [
        "input_dir = '/content/drive/My Drive/data/400_5816/crowns'\n",
        "output_dir = '/content/drive/My Drive/data/400_5816/crowns_clean'\n",
        "\n",
        "# Create the output directory if it doesn't exist\n",
        "os.makedirs(output_dir, exist_ok=True)"
      ],
      "metadata": {
        "id": "6380s-y0n86O"
      },
      "execution_count": null,
      "outputs": []
    },
    {
      "cell_type": "code",
      "source": [
        "for filename in os.listdir(input_dir):\n",
        "    if filename.endswith('.geojson'):\n",
        "        filepath = os.path.join(input_dir, filename)\n",
        "        gdf = gpd.read_file(filepath)\n",
        "\n",
        "        # Filter the geometries based on the ratio condition\n",
        "        cleaned_geometries = []\n",
        "        for geom in gdf.geometry:\n",
        "            if geom is not None:  # Add this check\n",
        "              if geom.geom_type == 'Polygon' and satisfies_ratio(geom):\n",
        "                  cleaned_geometries.append(geom)\n",
        "              elif geom.geom_type == 'MultiPolygon':\n",
        "                  for poly in geom.geoms:\n",
        "                      if satisfies_ratio(poly):\n",
        "                          cleaned_geometries.append(poly)\n",
        "\n",
        "        # Create a new GeoDataFrame with the cleaned geometries\n",
        "        cleaned_gdf = gpd.GeoDataFrame(geometry=cleaned_geometries, crs=gdf.crs)\n",
        "\n",
        "        # Save the cleaned geometries to a new GeoJSON file in the output directory\n",
        "        cleaned_filepath = os.path.join(output_dir, filename)\n",
        "        cleaned_gdf.to_file(cleaned_filepath, driver='GeoJSON')\n",
        "\n",
        "print(\"Cleaning and saving completed.\")"
      ],
      "metadata": {
        "colab": {
          "base_uri": "https://localhost:8080/"
        },
        "id": "vtdBSZO9oH0X",
        "outputId": "300741e0-8be8-4323-cd88-0c153fe1470f"
      },
      "execution_count": null,
      "outputs": [
        {
          "output_type": "stream",
          "name": "stdout",
          "text": [
            "Cleaning and saving completed.\n"
          ]
        }
      ]
    }
  ]
}